{
  "nbformat": 4,
  "nbformat_minor": 0,
  "metadata": {
    "colab": {
      "provenance": [],
      "collapsed_sections": [
        "zjZSUNLfsCbf",
        "lDcWAQyjr6B4"
      ],
      "toc_visible": true,
      "authorship_tag": "ABX9TyNkN0CGa9XRhBzrBwE59E5d",
      "include_colab_link": true
    },
    "kernelspec": {
      "name": "python3",
      "display_name": "Python 3"
    },
    "language_info": {
      "name": "python"
    }
  },
  "cells": [
    {
      "cell_type": "markdown",
      "metadata": {
        "id": "view-in-github",
        "colab_type": "text"
      },
      "source": [
        "<a href=\"https://colab.research.google.com/github/ashrafulwork/Learning-Python/blob/main/Codes_Python_Learning.ipynb\" target=\"_parent\"><img src=\"https://colab.research.google.com/assets/colab-badge.svg\" alt=\"Open In Colab\"/></a>"
      ]
    },
    {
      "cell_type": "markdown",
      "source": [
        "# User input in Python"
      ],
      "metadata": {
        "id": "zjZSUNLfsCbf"
      }
    },
    {
      "cell_type": "code",
      "execution_count": null,
      "metadata": {
        "colab": {
          "base_uri": "https://localhost:8080/"
        },
        "id": "QOFTEelmNgBc",
        "outputId": "5b1c166a-3db8-4d49-eb17-88887325144f"
      },
      "outputs": [
        {
          "output_type": "stream",
          "name": "stdout",
          "text": [
            "137\n"
          ]
        }
      ],
      "source": [
        "a = \"100\"\n",
        "b = \"37\"\n",
        "a = int(a)\n",
        "b = int(b)\n",
        "print(a+b)\n"
      ]
    },
    {
      "cell_type": "code",
      "source": [
        "first_name  = input(\"Enter your first name : \");\n",
        "second_name  = input(\"Enter your second name : \");\n",
        "print(first_name +\" \" +second_name);"
      ],
      "metadata": {
        "id": "UNNw_rPYN5my",
        "colab": {
          "base_uri": "https://localhost:8080/"
        },
        "outputId": "06e203f4-38ba-4000-89eb-c3c2dd307d14"
      },
      "execution_count": null,
      "outputs": [
        {
          "output_type": "stream",
          "name": "stdout",
          "text": [
            "Enter your first name : hh\n",
            "Enter your second name : hh\n",
            "hh hh\n"
          ]
        }
      ]
    },
    {
      "cell_type": "code",
      "source": [
        "import sys\n",
        "# first_name = input(\"Enter your first name : \")\n",
        "# second_name = input(\"Enter your second name : \")\n",
        "# print(first_name + \" \" + second_name)\n",
        "\n",
        "ID = input(\"Enter your ID : \")\n",
        "print(int(ID))\n",
        "print(sys.getsizeof(ID))\n"
      ],
      "metadata": {
        "id": "xoZ8nwxyN6CH",
        "colab": {
          "base_uri": "https://localhost:8080/"
        },
        "outputId": "610ab762-8d97-4a9d-ccd0-182a30a2bb17"
      },
      "execution_count": null,
      "outputs": [
        {
          "output_type": "stream",
          "name": "stdout",
          "text": [
            "Enter your ID : 445577\n",
            "445577\n",
            "55\n"
          ]
        }
      ]
    },
    {
      "cell_type": "markdown",
      "source": [
        "# Everything about Strings\n"
      ],
      "metadata": {
        "id": "lDcWAQyjr6B4"
      }
    },
    {
      "cell_type": "markdown",
      "source": [
        "If we want to add multiple lines / string lines we can use  triple single quotes like this ( ''' random\n",
        "            lines ''')"
      ],
      "metadata": {
        "id": "4c3M_LUosQLw"
      }
    },
    {
      "cell_type": "markdown",
      "source": [
        "part one starts from here\n"
      ],
      "metadata": {
        "id": "h4UBRruD32dH"
      }
    },
    {
      "cell_type": "code",
      "source": [
        "introduction ='''Hey guys ! This is El Professor.\n",
        "Today we are here today to learn how to write multiple string lines\n",
        "'''\n",
        "print(\"Short info my myself :\",introduction)\n",
        "\n",
        "co2_emission = '''When we look at the graph showing average global surface temperature anomalies, we can see a clear trend showing that temperatures started to increase around the 1960s and this continues up to the present day, with the increases growing ever larger.\n",
        "\n",
        "Scientists first began to notice a trend in rising sea temperatures starting from the 1950s (although it was some years later when the change became noticeable enough to distinguish it from natural temperature variations).\n",
        "\n",
        "However, the causes of climate change can probably be traced back to the industrial revolution, sometime around the 1830s, when humans first began to burn large quantities of fossil fuels'''\n",
        "print(co2_emission)"
      ],
      "metadata": {
        "id": "_wakehtxN9a3",
        "colab": {
          "base_uri": "https://localhost:8080/"
        },
        "outputId": "1c0c9f93-e1ea-4e5e-c55c-19a469082c57"
      },
      "execution_count": null,
      "outputs": [
        {
          "output_type": "stream",
          "name": "stdout",
          "text": [
            "Short info my myself : Hey guys ! This is El Professor.\n",
            "Today we are here today to learn how to write multiple string lines\n",
            "\n",
            "When we look at the graph showing average global surface temperature anomalies, we can see a clear trend showing that temperatures started to increase around the 1960s and this continues up to the present day, with the increases growing ever larger.\n",
            "\n",
            "Scientists first began to notice a trend in rising sea temperatures starting from the 1950s (although it was some years later when the change became noticeable enough to distinguish it from natural temperature variations).\n",
            "\n",
            "However, the causes of climate change can probably be traced back to the industrial revolution, sometime around the 1830s, when humans first began to burn large quantities of fossil fuels\n"
          ]
        }
      ]
    },
    {
      "cell_type": "markdown",
      "source": [
        "Part two starts from here\n"
      ],
      "metadata": {
        "id": "XXKQxSsg4AeX"
      }
    },
    {
      "cell_type": "code",
      "source": [
        "serial_one = [137,33,11]\n",
        "serial_two = \"Hossain\"\n",
        "print(serial_one[0])\n"
      ],
      "metadata": {
        "id": "vizKEt8Csq__",
        "colab": {
          "base_uri": "https://localhost:8080/"
        },
        "outputId": "4937451f-d5eb-41bd-fa5c-60bba272ae65"
      },
      "execution_count": null,
      "outputs": [
        {
          "output_type": "stream",
          "name": "stdout",
          "text": [
            "137\n"
          ]
        }
      ]
    },
    {
      "cell_type": "code",
      "source": [
        "intro = \"Hi Myself Md Ashraful Hossain\"\n",
        "\n",
        "for testing_loops in intro:\n",
        "    print(testing_loops)"
      ],
      "metadata": {
        "colab": {
          "base_uri": "https://localhost:8080/"
        },
        "id": "MaJvFTM-F76M",
        "outputId": "5601a820-b6fc-420d-c23f-bbe4c3cfd8bc"
      },
      "execution_count": null,
      "outputs": [
        {
          "output_type": "stream",
          "name": "stdout",
          "text": [
            "H\n",
            "i\n",
            " \n",
            "M\n",
            "y\n",
            "s\n",
            "e\n",
            "l\n",
            "f\n",
            " \n",
            "M\n",
            "d\n",
            " \n",
            "A\n",
            "s\n",
            "h\n",
            "r\n",
            "a\n",
            "f\n",
            "u\n",
            "l\n",
            " \n",
            "H\n",
            "o\n",
            "s\n",
            "s\n",
            "a\n",
            "i\n",
            "n\n"
          ]
        }
      ]
    },
    {
      "cell_type": "code",
      "source": [
        "co2_emission = '''When we look at the graph showing average global surface temperature anomalies, we can see a clear trend showing that temperatures started to increase around the 1960s and this continues up to the present day, with the increases growing ever larger.\n",
        "\n",
        "Scientists first began to notice a trend in rising sea temperatures starting from the 1950s (although it was some years later when the change became noticeable enough to distinguish it from natural temperature variations).\n",
        "\n",
        "However, the causes of climate change can probably be traced back to the industrial revolution, sometime around the 1830s, when humans first began to burn large quantities of fossil fuels''';\n",
        "# print(co2_emission.count(\"we\"));\n",
        "# print(co2_emission.upper());\n",
        "# print(co2_emission.lower());\n",
        "# print(co2_emission.split());\n",
        "# print(co2_emission.split()[2]);\n",
        "# print(co2_emission.center(0));\n",
        "print(co2_emission.replace(\"we\",\"they\"));\n"
      ],
      "metadata": {
        "colab": {
          "base_uri": "https://localhost:8080/"
        },
        "id": "JiFMJAMhIYjd",
        "outputId": "2de179dc-d7fd-461d-c6ae-8264cb25e0ae"
      },
      "execution_count": null,
      "outputs": [
        {
          "output_type": "stream",
          "name": "stdout",
          "text": [
            "When they look at the graph showing average global surface temperature anomalies, they can see a clear trend showing that temperatures started to increase around the 1960s and this continues up to the present day, with the increases growing ever larger.\n",
            "\n",
            "Scientists first began to notice a trend in rising sea temperatures starting from the 1950s (although it was some years later when the change became noticeable enough to distinguish it from natural temperature variations).\n",
            "\n",
            "Hotheyver, the causes of climate change can probably be traced back to the industrial revolution, sometime around the 1830s, when humans first began to burn large quantities of fossil fuels\n"
          ]
        }
      ]
    },
    {
      "cell_type": "code",
      "source": [
        "import time\n",
        "# user_input = input((\"Do you wish to continue ? Type Y or N  \"));\n",
        "# if \"Y\" or \"y\" in user_input:\n",
        "#                    first_name = input((\"type your first name here :\"));\n",
        "#                   time.sleep(5.5)\n",
        "#                   last_name = input((\"type your last name here :\"));\n",
        "#                   time.sleep(5.5)\n",
        "\n"
      ],
      "metadata": {
        "id": "XPBUO9MnLRWM"
      },
      "execution_count": null,
      "outputs": []
    },
    {
      "cell_type": "markdown",
      "source": [
        "Testing what i have learned till now ( didnt learned for loop yet )\n"
      ],
      "metadata": {
        "id": "w-jGuu7RUEqI"
      }
    },
    {
      "cell_type": "code",
      "source": [
        "user_input = input((\"Do you wish to continue ? Type Y or N  \"));\n",
        "\n",
        "# if user_input!=\"Y\" or user_input!=\"y\":\n",
        "\n",
        "#       print(\"You have pressed wrong input\")\n",
        "#       print(\"Ok...Discontinuing\");\n",
        "\n",
        "if user_input==\"N\" or user_input==\"n\" in user_input:\n",
        "    print(\"You have pressed N '\")\n",
        "    print(\"Ok... Discontinuing\")\n",
        "\n",
        "elif user_input==\"Y\" or user_input==\"y\" in user_input :\n",
        "    first_name  = input(\"Enter your first name : \");\n",
        "    second_name  = input(\"Enter your second name : \");\n",
        "    email = input(\"Enter your email account : \")\n",
        "    print(\"Name : \",first_name,second_name,\"\\nEmail Address :\",email);\n",
        "\n",
        "elif user_input!=\"Y\" or user_input!=\"y\"  or user_input!=\"N\" or user_input!=\"n\"  in user_input :\n",
        "    print(\"Wrong Input\")\n",
        "    print(\"Discontinuing\");"
      ],
      "metadata": {
        "colab": {
          "base_uri": "https://localhost:8080/"
        },
        "id": "QP9ZFGSwNSML",
        "outputId": "3565de79-ebfb-49e8-b13e-18507a951e5d"
      },
      "execution_count": null,
      "outputs": [
        {
          "output_type": "stream",
          "name": "stdout",
          "text": [
            "Do you wish to continue ? Type Y or N  y\n",
            "Enter your first name : asdasd\n",
            "Enter your second name : asdasd\n",
            "Enter your email account : sadasd@gmail.om\n",
            "Name :  asdasd asdasd \n",
            "Email Address : sadasd@gmail.om\n"
          ]
        }
      ]
    },
    {
      "cell_type": "markdown",
      "source": [
        "Strings Slicing and Operations on Strings in Python"
      ],
      "metadata": {
        "id": "r5gDjKZTC0my"
      }
    },
    {
      "cell_type": "markdown",
      "source": [
        "# Strings Slicing and Operations on Strings in Python"
      ],
      "metadata": {
        "id": "vDckN6-HC3JA"
      }
    },
    {
      "cell_type": "markdown",
      "source": [
        "5-3 = 2 ,  5-1 =4    => 2,3"
      ],
      "metadata": {
        "id": "rK9L2mnKLvfH"
      }
    },
    {
      "cell_type": "code",
      "source": [
        "name = \"Ashraful\"\n",
        "# print(len(name))\n",
        "# print(name[0:4]) # this is 0  to 3 because N-1\n",
        "print(name[-3:-1])"
      ],
      "metadata": {
        "id": "VG3LfS5lC8x5",
        "colab": {
          "base_uri": "https://localhost:8080/"
        },
        "outputId": "b6d51f34-2bb5-4987-929b-42709d0d2377"
      },
      "execution_count": 8,
      "outputs": [
        {
          "output_type": "stream",
          "name": "stdout",
          "text": [
            "fu\n"
          ]
        }
      ]
    },
    {
      "cell_type": "code",
      "source": [
        "testing = \"Ashraful\"\n",
        "print(testing[-4:-2]) ##ggwp"
      ],
      "metadata": {
        "colab": {
          "base_uri": "https://localhost:8080/"
        },
        "id": "YmSniMEcOW7t",
        "outputId": "f712d7a9-5527-400b-badf-39dc759bbd78"
      },
      "execution_count": 9,
      "outputs": [
        {
          "output_type": "stream",
          "name": "stdout",
          "text": [
            "ar\n"
          ]
        }
      ]
    }
  ]
}